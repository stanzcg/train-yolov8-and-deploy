{
 "cells": [
  {
   "cell_type": "code",
   "execution_count": null,
   "metadata": {},
   "outputs": [],
   "source": [
    "import os\n",
    "import datasets\n",
    "import PIL"
   ]
  },
  {
   "cell_type": "code",
   "execution_count": null,
   "metadata": {},
   "outputs": [],
   "source": [
    "dataset=datasets.load_dataset('cppe-5')"
   ]
  },
  {
   "cell_type": "code",
   "execution_count": null,
   "metadata": {},
   "outputs": [],
   "source": [
    "dataset"
   ]
  },
  {
   "cell_type": "code",
   "execution_count": null,
   "metadata": {},
   "outputs": [],
   "source": [
    "dataset['train'][0]['image']"
   ]
  },
  {
   "cell_type": "code",
   "execution_count": null,
   "metadata": {},
   "outputs": [],
   "source": [
    "dataset['train'][0]"
   ]
  },
  {
   "cell_type": "code",
   "execution_count": null,
   "metadata": {},
   "outputs": [],
   "source": [
    "def process(example,settype='train'):\n",
    "    image=example['image'].convert('RGB')\n",
    "    image.save('yolo_dataset/images/{sett}/{settt}{id}.jpg'.format(sett=settype,settt=settype,id=example['image_id']))\n",
    "    f=open('yolo_dataset/labels/{sett}/{settt}{id}.txt'.format(sett=settype,settt=settype,id=example['image_id']),'a')\n",
    "    for i in range(len(example['objects']['bbox'])):\n",
    "        f.write(str(example['objects']['category'][i]))\n",
    "        for j in range(4):\n",
    "            if j==0:\n",
    "                f.write(' '+str((example['objects']['bbox'][i][j]+example['objects']['bbox'][i][2]/2)/example['width']))\n",
    "            elif j==1:\n",
    "                f.write(' '+str((example['objects']['bbox'][i][j]+example['objects']['bbox'][i][3]/2)/example['height']))\n",
    "            elif j==2:\n",
    "                f.write(' '+str((example['objects']['bbox'][i][j])/example['width']))\n",
    "            else:\n",
    "                f.write(' '+str((example['objects']['bbox'][i][j])/example['height']))\n",
    "        if i<len(example['objects']['bbox'])-1:\n",
    "            f.write('\\n')\n",
    "    f.close()"
   ]
  },
  {
   "cell_type": "code",
   "execution_count": null,
   "metadata": {},
   "outputs": [],
   "source": [
    "# dataset['train'][0]"
   ]
  },
  {
   "cell_type": "code",
   "execution_count": null,
   "metadata": {},
   "outputs": [],
   "source": [
    "dataset['train'].map(lambda example:process(example,'train'))"
   ]
  },
  {
   "cell_type": "code",
   "execution_count": null,
   "metadata": {},
   "outputs": [],
   "source": [
    "dataset['test'].map(lambda example:process(example,'val'))"
   ]
  },
  {
   "cell_type": "code",
   "execution_count": null,
   "metadata": {},
   "outputs": [],
   "source": []
  }
 ],
 "metadata": {
  "kernelspec": {
   "display_name": "base",
   "language": "python",
   "name": "python3"
  },
  "language_info": {
   "codemirror_mode": {
    "name": "ipython",
    "version": 3
   },
   "file_extension": ".py",
   "mimetype": "text/x-python",
   "name": "python",
   "nbconvert_exporter": "python",
   "pygments_lexer": "ipython3",
   "version": "3.11.7"
  }
 },
 "nbformat": 4,
 "nbformat_minor": 2
}
