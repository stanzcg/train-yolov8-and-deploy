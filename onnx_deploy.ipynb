{
 "cells": [
  {
   "cell_type": "code",
   "execution_count": null,
   "metadata": {},
   "outputs": [],
   "source": [
    "import onnx\n",
    "import onnxruntime\n",
    "import  matplotlib.pyplot as plt\n",
    "import cv2\n",
    "import numpy as np"
   ]
  },
  {
   "cell_type": "code",
   "execution_count": null,
   "metadata": {},
   "outputs": [],
   "source": [
    "try:\n",
    "    onnx.checker.check_model('C:/Users/stan/Desktop/yolov8/runs/detect/train19/weights/best.onnx')\n",
    "except onnx.checker.ValidationError as e:\n",
    "    print('invalid')\n",
    "else:\n",
    "    print('valid')"
   ]
  },
  {
   "cell_type": "code",
   "execution_count": null,
   "metadata": {},
   "outputs": [],
   "source": [
    "onnx_file_name='C:/Users/stan/Desktop/yolov8/runs/detect/train19/weights/best.onnx'\n",
    "ort_session=onnxruntime.InferenceSession(onnx_file_name,providers=['CUDAExecutionProvider'])\n"
   ]
  },
  {
   "cell_type": "code",
   "execution_count": null,
   "metadata": {},
   "outputs": [],
   "source": [
    "for input in ort_session.get_inputs():\n",
    "    print(\"input name: \", input.name)\n",
    "    print(\"input shape: \", input.shape)\n",
    "    print(\"input type: \", input.type)\n",
    "\n",
    "for output in ort_session.get_outputs():\n",
    "    print(\"output name: \", output.name)\n",
    "    print(\"output shape: \", output.shape)\n",
    "    print(\"output type: \", output.type)"
   ]
  },
  {
   "cell_type": "code",
   "execution_count": null,
   "metadata": {},
   "outputs": [],
   "source": [
    "def prepare_input(bgr_image, width, height):\n",
    "    image = cv2.cvtColor(bgr_image, cv2.COLOR_BGR2RGB)\n",
    "    image = cv2.resize(image, (width, height)).astype(np.float32)\n",
    "    image = image / 255.0\n",
    "    image = np.transpose(image, (2, 0, 1))\n",
    "    input_tensor = np.expand_dims(image, axis=0)\n",
    "    return input_tensor"
   ]
  },
  {
   "cell_type": "code",
   "execution_count": null,
   "metadata": {},
   "outputs": [],
   "source": [
    "image = cv2.imread(\"yolo_dataset/images/val/val1001.jpg\")\n",
    "image_height, image_width, _ = image.shape\n",
    "input_tensor = prepare_input(image, 640,640)\n",
    "print(\"input_tensor shape: \", input_tensor.shape)"
   ]
  },
  {
   "cell_type": "code",
   "execution_count": null,
   "metadata": {},
   "outputs": [],
   "source": [
    "outputs = ort_session.run(None, {ort_session.get_inputs()[0].name: input_tensor})"
   ]
  },
  {
   "cell_type": "code",
   "execution_count": null,
   "metadata": {},
   "outputs": [],
   "source": [
    "output0=np.squeeze(outputs[0]).transpose()"
   ]
  },
  {
   "cell_type": "code",
   "execution_count": null,
   "metadata": {},
   "outputs": [],
   "source": [
    "output0.shape"
   ]
  },
  {
   "cell_type": "code",
   "execution_count": null,
   "metadata": {},
   "outputs": [],
   "source": [
    "def nms(pred, conf_thres, iou_thres): \n",
    "    conf = pred[..., 4] > conf_thres\n",
    "    box = pred[conf == True] \n",
    "    cls_conf = box[..., 5:]\n",
    "    cls = []\n",
    "    for i in range(len(cls_conf)):\n",
    "        cls.append(int(np.argmax(cls_conf[i])))\n",
    "    total_cls = list(set(cls))\n",
    "    # print(total_cls)  \n",
    "    output_box = []  \n",
    "    for i in range(len(total_cls)):\n",
    "        clss = total_cls[i] \n",
    "        cls_box = []\n",
    "        for j in range(len(cls)):\n",
    "            if cls[j] == clss:\n",
    "                box[j][5] = clss\n",
    "                cls_box.append(box[j][:6])\n",
    "        cls_box = np.array(cls_box)\n",
    "        box_conf = cls_box[..., 4]  \n",
    "        box_conf_sort = np.argsort(box_conf) \n",
    "        max_conf_box = cls_box[box_conf_sort[len(box_conf) - 1]]\n",
    "        output_box.append(max_conf_box) \n",
    "        cls_box = np.delete(cls_box, box_conf_sort[len(box_conf) - 1], 0) \n",
    "        while len(cls_box) > 0:\n",
    "            max_conf_box = output_box[len(output_box) - 1]  \n",
    "            del_index = []\n",
    "            for j in range(len(cls_box)):\n",
    "                current_box = cls_box[j]  \n",
    "                interArea = getInter(max_conf_box, current_box)  \n",
    "                iou = getIou(max_conf_box, current_box, interArea)  \n",
    "                if iou > iou_thres:\n",
    "                    del_index.append(j)  \n",
    "            cls_box = np.delete(cls_box, del_index, 0)  \n",
    "            if len(cls_box) > 0:\n",
    "                box_conf = cls_box[..., 4]\n",
    "                box_conf_sort = np.argsort(box_conf) \n",
    "                max_conf_box = cls_box[box_conf_sort[len(box_conf) - 1]]\n",
    "                output_box.append(max_conf_box)\n",
    "                cls_box = np.delete(cls_box, box_conf_sort[len(box_conf) - 1], 0)\n",
    "    return output_box"
   ]
  },
  {
   "cell_type": "code",
   "execution_count": null,
   "metadata": {},
   "outputs": [],
   "source": [
    "def getIou(box1, box2, inter_area):\n",
    "    box1_area = box1[2] * box1[3]\n",
    "    box2_area = box2[2] * box2[3]\n",
    "    union = box1_area + box2_area - inter_area\n",
    "    iou = inter_area / union\n",
    "    return iou"
   ]
  },
  {
   "cell_type": "code",
   "execution_count": null,
   "metadata": {},
   "outputs": [],
   "source": [
    "def getInter(box1, box2):\n",
    "    box1_x1, box1_y1, box1_x2, box1_y2 = box1[0] - box1[2] / 2, box1[1] - box1[3] / 2, \\\n",
    "                                         box1[0] + box1[2] / 2, box1[1] + box1[3] / 2\n",
    "    box2_x1, box2_y1, box2_x2, box2_y2 = box2[0] - box2[2] / 2, box2[1] - box1[3] / 2, \\\n",
    "                                         box2[0] + box2[2] / 2, box2[1] + box2[3] / 2\n",
    "    if box1_x1 > box2_x2 or box1_x2 < box2_x1:\n",
    "        return 0\n",
    "    if box1_y1 > box2_y2 or box1_y2 < box2_y1:\n",
    "        return 0\n",
    "    x_list = [box1_x1, box1_x2, box2_x1, box2_x2]\n",
    "    x_list = np.sort(x_list)\n",
    "    x_inter = x_list[2] - x_list[1]\n",
    "    y_list = [box1_y1, box1_y2, box2_y1, box2_y2]\n",
    "    y_list = np.sort(y_list)\n",
    "    y_inter = y_list[2] - y_list[1]\n",
    "    inter = x_inter * y_inter\n",
    "    return inter"
   ]
  },
  {
   "cell_type": "code",
   "execution_count": null,
   "metadata": {},
   "outputs": [],
   "source": [
    "def draw(img, xscale, yscale, pred):\n",
    "    img_ = img.copy()\n",
    "    if len(pred):\n",
    "        for detect in pred:\n",
    "            detect = [int((detect[0] - detect[2] / 2) * xscale), int((detect[1] - detect[3] / 2) * yscale),\n",
    "                      int((detect[0]+detect[2] / 2) * xscale), int((detect[1]+detect[3] / 2) * yscale)]\n",
    "            img_ = cv2.rectangle(img, (detect[0], detect[1]), (detect[2], detect[3]), (0, 255, 0), 1)\n",
    "    return img_"
   ]
  },
  {
   "cell_type": "code",
   "execution_count": null,
   "metadata": {},
   "outputs": [],
   "source": [
    "pred_class = output0[..., 4:]\n",
    "print(pred_class[0])\n",
    "pred_conf = np.max(pred_class, axis=-1)\n",
    "pred = np.insert(output0, 4, pred_conf, axis=-1)\n",
    "print(pred[0])\n",
    "result = nms(pred, 0.5, 0.5)\n",
    "ret_img = draw(image, image.shape[1]/640, image.shape[0]/640, result)\n",
    "ret_img = ret_img[:, :, ::-1]\n",
    "plt.imshow(ret_img)\n",
    "plt.show()"
   ]
  }
 ],
 "metadata": {
  "kernelspec": {
   "display_name": "onnxdeploy",
   "language": "python",
   "name": "python3"
  },
  "language_info": {
   "codemirror_mode": {
    "name": "ipython",
    "version": 3
   },
   "file_extension": ".py",
   "mimetype": "text/x-python",
   "name": "python",
   "nbconvert_exporter": "python",
   "pygments_lexer": "ipython3",
   "version": "3.8.18"
  }
 },
 "nbformat": 4,
 "nbformat_minor": 2
}
